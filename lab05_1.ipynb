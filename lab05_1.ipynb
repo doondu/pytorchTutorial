{
  "nbformat": 4,
  "nbformat_minor": 0,
  "metadata": {
    "colab": {
      "private_outputs": true,
      "provenance": [],
      "authorship_tag": "ABX9TyM++gHmPGQtRjAgJtgfvyzi"
    },
    "kernelspec": {
      "name": "python3",
      "display_name": "Python 3"
    },
    "language_info": {
      "name": "python"
    }
  },
  "cells": [
    {
      "cell_type": "code",
      "execution_count": null,
      "metadata": {
        "id": "BFxsN3xBPsww"
      },
      "outputs": [],
      "source": [
        "import torch\n",
        "from torch.autograd import Variable\n",
        "import numpy as np\n",
        "\n",
        "torch.manual_seed(777)"
      ]
    },
    {
      "cell_type": "code",
      "source": [
        "x_data = np.array([[1, 2], [2, 3], [3, 1], [4, 3], [5, 3], [6, 2]], dtype=np.float32)\n",
        "y_data = np.array([[0], [0], [0], [1], [1], [1]], dtype=np.float32)\n",
        "\n",
        "X = Variable(torch.from_numpy(x_data))\n",
        "Y = Variable(torch.from_numpy(y_data))"
      ],
      "metadata": {
        "id": "E2tCByT7SR5z"
      },
      "execution_count": null,
      "outputs": []
    },
    {
      "cell_type": "code",
      "source": [
        "linear = torch.nn.Linear(2, 1, bias=True) #2개 들어가고 1개 출력\n",
        "sigmoid = torch.nn.Sigmoid() #sigmoid 적용\n",
        "model = torch.nn.Sequential(linear, sigmoid)\n",
        "\n",
        "optimizer = torch.optim.SGD(model.parameters(), lr=0.01)"
      ],
      "metadata": {
        "id": "ELevVqkHS7oa"
      },
      "execution_count": null,
      "outputs": []
    },
    {
      "cell_type": "code",
      "source": [
        "for step in range(10001):\n",
        "    optimizer.zero_grad()\n",
        "    hypothesis = model(X) #sigmoid가 적용된 X 값\n",
        "    cost = -(Y * torch.log(hypothesis) + (1 - Y)* torch.log(1 - hypothesis)).mean()\n",
        "    cost.backward()\n",
        "    optimizer.step() #optimizer 업데이트\n",
        "\n",
        "    if step % 200 == 0:\n",
        "        print(step, cost.data.numpy())"
      ],
      "metadata": {
        "id": "-jmtRianTgqe"
      },
      "execution_count": null,
      "outputs": []
    },
    {
      "cell_type": "code",
      "source": [
        "predicted = (model(X).data > 0.5).float() #학습한 모델에 다시 X를 넣고\n",
        "accuracy = (predicted == Y.data).float().mean() #Y와 output값이 같은 걸 평균 내고 float 형변환\n",
        "print(\"\\nHypothesis: \", hypothesis.data.numpy(), \"\\nCorrect (Y): \", predicted.numpy(), \"\\nAccuracy: \", accuracy)"
      ],
      "metadata": {
        "id": "asHtIPz9UdhK"
      },
      "execution_count": null,
      "outputs": []
    }
  ]
}