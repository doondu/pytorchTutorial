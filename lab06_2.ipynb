{
  "nbformat": 4,
  "nbformat_minor": 0,
  "metadata": {
    "colab": {
      "private_outputs": true,
      "provenance": [],
      "authorship_tag": "ABX9TyOhRfDkWbI+StLYn41m1t8H",
      "include_colab_link": true
    },
    "kernelspec": {
      "name": "python3",
      "display_name": "Python 3"
    },
    "language_info": {
      "name": "python"
    }
  },
  "cells": [
    {
      "cell_type": "markdown",
      "metadata": {
        "id": "view-in-github",
        "colab_type": "text"
      },
      "source": [
        "<a href=\"https://colab.research.google.com/github/doondu/pytorchTutorial/blob/main/lab06_2.ipynb\" target=\"_parent\"><img src=\"https://colab.research.google.com/assets/colab-badge.svg\" alt=\"Open In Colab\"/></a>"
      ]
    },
    {
      "cell_type": "code",
      "source": [
        "from google.colab import files\n",
        "uploaded = files.upload()"
      ],
      "metadata": {
        "id": "YDseSsv5HhS5"
      },
      "execution_count": null,
      "outputs": []
    },
    {
      "cell_type": "code",
      "execution_count": null,
      "metadata": {
        "id": "xlc647fYHSn0"
      },
      "outputs": [],
      "source": [
        "import torch\n",
        "from torch.autograd import Variable\n",
        "import numpy as np\n",
        "\n",
        "torch.manual_seed(777)"
      ]
    },
    {
      "cell_type": "code",
      "source": [
        "xy = np.loadtxt('data-04-zoo.csv', delimiter=',', dtype=np.float32)\n",
        "x_data = xy[:, 0:-1]\n",
        "y_data = xy[:, [-1]]\n",
        "\n",
        "print(x_data.shape, y_data.shape)\n",
        "\n",
        "nb_classes = 7\n",
        "\n",
        "X = Variable(torch.from_numpy(x_data))\n",
        "Y = Variable(torch.from_numpy(y_data))"
      ],
      "metadata": {
        "id": "ltpIjHMkHYwL"
      },
      "execution_count": null,
      "outputs": []
    },
    {
      "cell_type": "code",
      "source": [
        "Y_one_hot = torch.zeros(Y.size()[0], nb_classes)#6개의 label\n",
        "print(Y.data) #101\n",
        "print(Y_one_hot) # 101 * 6\n",
        "\n",
        "Y_one_hot.scatter_(1, Y.long().data, 1) #scatter를 사용해 Y값 Y_one_hot 알맞은 인덱스에 1 할당\n",
        "Y_one_hot = Variable(Y_one_hot)\n",
        "print(\"one_hot\", Y_one_hot.data)"
      ],
      "metadata": {
        "id": "z-yhCPhKH5w0"
      },
      "execution_count": null,
      "outputs": []
    },
    {
      "cell_type": "code",
      "source": [
        "softmax = torch.nn.Softmax()\n",
        "model = torch.nn.Linear(16, nb_classes, bias = True) #input 16, output7\n",
        "\n",
        "criterion = torch.nn.CrossEntropyLoss() #Softmax\n",
        "optimizer = torch.optim.SGD(model.parameters(), lr=0.1)"
      ],
      "metadata": {
        "id": "X_V7Uk6LJY-6"
      },
      "execution_count": null,
      "outputs": []
    },
    {
      "cell_type": "code",
      "source": [
        "for step in range(2001):\n",
        "    optimizer.zero_grad()\n",
        "    hypothesis = model(X)\n",
        "    cost = criterion(hypothesis, Y.long().view(-1)) #Y를 1차원 텐서로\n",
        "    cost.backward()\n",
        "    optimizer.step()\n",
        "\n",
        "    prediction = torch.max(softmax(hypothesis), 1)[1].float()\n",
        "\n",
        "    correct_prediction = (prediction.data == Y.data)\n",
        "    accuracy = correct_prediction.float().mean()\n",
        "\n",
        "    if step % 100 == 0:\n",
        "        print(\"Step: {:5}\\tLoss: {:.3f}\\tAcc: {:.2%}\\tPredict:{}\".format(step, cost.data, accuracy, prediction))"
      ],
      "metadata": {
        "id": "T4BTSaDtLUl-"
      },
      "execution_count": null,
      "outputs": []
    },
    {
      "cell_type": "code",
      "source": [
        "pred = torch.max(softmax(hypothesis), 1)[1].float()\n",
        "\n",
        "for p, y in zip(pred, Y):\n",
        "     print(\"[{}] Prediction: {} True Y: {}\".format(bool(p.data == y.data[0]), p.data.int(), y.data.int()[0]))"
      ],
      "metadata": {
        "id": "W3h9Z67QNbGa"
      },
      "execution_count": null,
      "outputs": []
    }
  ]
}