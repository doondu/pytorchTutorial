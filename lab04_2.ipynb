{
  "nbformat": 4,
  "nbformat_minor": 0,
  "metadata": {
    "colab": {
      "private_outputs": true,
      "provenance": [],
      "authorship_tag": "ABX9TyMFCV+LLLJ7hBle0Xg+Sr5P"
    },
    "kernelspec": {
      "name": "python3",
      "display_name": "Python 3"
    },
    "language_info": {
      "name": "python"
    }
  },
  "cells": [
    {
      "cell_type": "code",
      "execution_count": null,
      "metadata": {
        "id": "KM9roAUQ8XF0"
      },
      "outputs": [],
      "source": [
        "import torch\n",
        "import torch.nn as nn\n",
        "from torch.autograd import Variable\n",
        "import numpy as np\n",
        "\n",
        "torch.manual_seed(777)"
      ]
    },
    {
      "cell_type": "code",
      "source": [
        "from google.colab import files\n",
        "uploaded = files.upload()"
      ],
      "metadata": {
        "id": "akc1wcOoA8Ay"
      },
      "execution_count": null,
      "outputs": []
    },
    {
      "cell_type": "code",
      "source": [
        "xy = np.loadtxt('data-01-test-score.csv', delimiter=',', dtype=np.float32) #,로 나눔\n",
        "\n",
        "x_data = xy[:, 0:-1] #처음부터 마지막 줄 전까지\n",
        "y_data = xy[:, [-1]] #마지막 데이터만\n",
        "\n",
        "print(x_data.shape, len(x_data))\n",
        "print(y_data.shape)"
      ],
      "metadata": {
        "id": "7RBsVJ8q-lme"
      },
      "execution_count": null,
      "outputs": []
    },
    {
      "cell_type": "code",
      "source": [
        "x_data = Variable(torch.from_numpy(x_data))\n",
        "y_data = Variable(torch.from_numpy(y_data))\n",
        "\n",
        "model = nn.Linear(3, 1, bias= True)\n",
        "\n",
        "criterion = nn.MSELoss()\n",
        "\n",
        "optimizer = torch.optim.SGD(model.parameters(), lr=1e-5)"
      ],
      "metadata": {
        "id": "yIHe7wPR_SKo"
      },
      "execution_count": null,
      "outputs": []
    },
    {
      "cell_type": "code",
      "source": [
        "for step in range(2001):\n",
        "    optimizer.zero_grad()\n",
        "    hypothesis = model(x_data)\n",
        "    cost = criterion(hypothesis, y_data)\n",
        "    cost.backward()\n",
        "    optimizer.step()\n",
        "\n",
        "    if step % 10 == 0:\n",
        "        print(step, \"Cost: \", cost.data.numpy(), \"\\nPrediction:\\n\", hypothesis.data.numpy())\n",
        "\n",
        "print(\"Your score will be \", model(Variable(torch.Tensor([[100, 70, 101]]))).data.numpy())\n",
        "print(\"Your score will be \", model(Variable(torch.Tensor([[60, 70, 110], [90, 100, 80]]))).data.numpy())"
      ],
      "metadata": {
        "id": "UVE-Qe89EFVP"
      },
      "execution_count": null,
      "outputs": []
    }
  ]
}