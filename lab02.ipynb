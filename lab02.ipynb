{
  "nbformat": 4,
  "nbformat_minor": 0,
  "metadata": {
    "colab": {
      "private_outputs": true,
      "provenance": [],
      "authorship_tag": "ABX9TyNVAXcjU8gyL1/7hmQFA+9x",
      "include_colab_link": true
    },
    "kernelspec": {
      "name": "python3",
      "display_name": "Python 3"
    },
    "language_info": {
      "name": "python"
    }
  },
  "cells": [
    {
      "cell_type": "markdown",
      "metadata": {
        "id": "view-in-github",
        "colab_type": "text"
      },
      "source": [
        "<a href=\"https://colab.research.google.com/github/doondu/pytorchTutorial/blob/main/lab02.ipynb\" target=\"_parent\"><img src=\"https://colab.research.google.com/assets/colab-badge.svg\" alt=\"Open In Colab\"/></a>"
      ]
    },
    {
      "cell_type": "code",
      "execution_count": null,
      "metadata": {
        "id": "EXsGeJxq0il_"
      },
      "outputs": [],
      "source": [
        "import torch\n",
        "import torch.nn as nn # 신경망 관련 작업 구성요소\n",
        "from torch.autograd import Variable #자동미분라이브러리"
      ]
    },
    {
      "cell_type": "code",
      "source": [
        "torch.manual_seed(777)"
      ],
      "metadata": {
        "id": "7-P3v-Hh0rRl"
      },
      "execution_count": null,
      "outputs": []
    },
    {
      "cell_type": "code",
      "source": [
        "x_train = [[1], [2], [3]]\n",
        "y_train = [[1], [2], [3]]\n",
        "X = Variable(torch.Tensor(x_train)) #텐서 형태 변환\n",
        "Y = Variable(torch.Tensor(y_train))\n",
        "\n",
        "model = nn.Linear(1, 1, bias = True) #Linear, 선형 회귀모델 입력 차원1, 출력 차원1\n",
        "\n",
        "criterion = nn.MSELoss()\n",
        "\n",
        "optimizer = torch.optim.SGD(model.parameters(), lr=0.01) #Stocastic Gradient Descent"
      ],
      "metadata": {
        "id": "10Lx4zmJ1uNh"
      },
      "execution_count": null,
      "outputs": []
    },
    {
      "cell_type": "code",
      "source": [
        "for step in range(2001):\n",
        "    optimizer.zero_grad() #매 반복마다 기울기 초기화\n",
        "    hypothesis = model(X) #모델에 X 입력\n",
        "    cost = criterion(hypothesis, Y)\n",
        "    cost.backward() #cost기준 역전파\n",
        "    optimizer.step() #옵티마이저로 업데이트\n",
        "\n",
        "    if step % 20 == 0: #20번째마다\n",
        "        print(step, cost.data.numpy(), model.weight.data.numpy(), model.bias.data.numpy())#step, cost, 가중치, 편향"
      ],
      "metadata": {
        "id": "fu1X_LS53XhV"
      },
      "execution_count": null,
      "outputs": []
    },
    {
      "cell_type": "code",
      "source": [
        "predicted = model(Variable(torch.Tensor([[1]])))\n",
        "print(predicted.data.numpy())\n",
        "predicted = model(Variable(torch.Tensor([[3]])))\n",
        "print(predicted.data.numpy())\n",
        "predicted = model(Variable(torch.Tensor([[1.5], [3.5]])))\n",
        "print(predicted.data.numpy())"
      ],
      "metadata": {
        "id": "1xsClYry28La"
      },
      "execution_count": null,
      "outputs": []
    }
  ]
}