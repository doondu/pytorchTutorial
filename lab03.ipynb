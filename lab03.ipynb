{
  "nbformat": 4,
  "nbformat_minor": 0,
  "metadata": {
    "colab": {
      "private_outputs": true,
      "provenance": [],
      "authorship_tag": "ABX9TyP8Rp0VfuaeNAZO9ubZ60Rg"
    },
    "kernelspec": {
      "name": "python3",
      "display_name": "Python 3"
    },
    "language_info": {
      "name": "python"
    }
  },
  "cells": [
    {
      "cell_type": "code",
      "execution_count": null,
      "metadata": {
        "id": "RpcUH0odWg1g"
      },
      "outputs": [],
      "source": [
        "import torch\n",
        "import torch.nn as nn\n",
        "from torch.autograd import Variable\n",
        "import matplotlib.pyplot as plt"
      ]
    },
    {
      "cell_type": "code",
      "source": [
        "x_train = [[1], [2], [3]]\n",
        "y_train = [[1], [2], [3]]\n",
        "\n",
        "X = Variable(torch.Tensor(x_train))\n",
        "Y = Variable(torch.Tensor(y_train))\n",
        "\n",
        "model = nn.Linear(1, 1, bias = True)\n",
        "\n",
        "criterion = nn.MSELoss()\n",
        "\n",
        "optimizer = torch.optim.SGD(model.parameters(), lr=0.01)"
      ],
      "metadata": {
        "id": "t6RliWXmHB1Q"
      },
      "execution_count": null,
      "outputs": []
    },
    {
      "cell_type": "markdown",
      "source": [
        "Pytorch 사용해서 모델을 거칠 시 나오는 shape을 몰라서 pyplot을 사용해 그래프를 못 그리겠음"
      ],
      "metadata": {
        "id": "_PSKI27pKla7"
      }
    },
    {
      "cell_type": "code",
      "source": [
        "h_val = []\n",
        "cost_val = []\n",
        "\n",
        "for step in range(-30, 50):\n",
        "    optimizer.zero_grad()\n",
        "    hypothesis = model(X)\n",
        "    cost = criterion(hypothesis, Y)\n",
        "    cost.backward()\n",
        "    optimizer.step()\n",
        "    h_val.append(hypothesis.detach().numpy())\n",
        "    cost_val.append(cost.detach().numpy())\n",
        "\n",
        "plt.plot(h_val, cost_val)\n",
        "plt.show()"
      ],
      "metadata": {
        "id": "TwQFwz48I8j4"
      },
      "execution_count": null,
      "outputs": []
    }
  ]
}