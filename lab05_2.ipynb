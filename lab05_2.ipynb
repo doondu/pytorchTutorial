{
  "nbformat": 4,
  "nbformat_minor": 0,
  "metadata": {
    "colab": {
      "private_outputs": true,
      "provenance": [],
      "authorship_tag": "ABX9TyP3ETbCtJOPpGctip4aYMkC"
    },
    "kernelspec": {
      "name": "python3",
      "display_name": "Python 3"
    },
    "language_info": {
      "name": "python"
    }
  },
  "cells": [
    {
      "cell_type": "code",
      "execution_count": null,
      "metadata": {
        "id": "fa4FdeEnXwm_"
      },
      "outputs": [],
      "source": [
        "from google.colab import files\n",
        "uploaded = files.upload()"
      ]
    },
    {
      "cell_type": "code",
      "source": [
        "import torch\n",
        "from torch.autograd import Variable\n",
        "import numpy as np\n",
        "\n",
        "torch.manual_seed(777)  # for reproducibility"
      ],
      "metadata": {
        "id": "7rZyfxL0Zd3m"
      },
      "execution_count": null,
      "outputs": []
    },
    {
      "cell_type": "code",
      "source": [
        "xy = np.loadtxt('data-03-diabetes.csv', delimiter=',', dtype=np.float32)\n",
        "x_data = xy[:, 0:-1]\n",
        "y_data = xy[:, [-1]]\n",
        "\n",
        "print(x_data.shape, y_data.shape)"
      ],
      "metadata": {
        "id": "s6AcyvsuZnbL"
      },
      "execution_count": null,
      "outputs": []
    },
    {
      "cell_type": "code",
      "source": [
        "X = Variable(torch.from_numpy(x_data))\n",
        "Y = Variable(torch.from_numpy(y_data))\n",
        "\n",
        "# Hypothesis using sigmoid\n",
        "linear = torch.nn.Linear(8, 1, bias=True) #입력 8, 출력 1\n",
        "sigmoid = torch.nn.Sigmoid()\n",
        "model = torch.nn.Sequential(linear, sigmoid)\n",
        "\n",
        "optimizer = torch.optim.SGD(model.parameters(), lr=0.01)"
      ],
      "metadata": {
        "id": "5yBHanUvaD8R"
      },
      "execution_count": null,
      "outputs": []
    },
    {
      "cell_type": "code",
      "source": [
        "for step in range(10001):\n",
        "    optimizer.zero_grad()\n",
        "    hypothesis = model(X)\n",
        "    # cost/loss function\n",
        "    cost = -(Y * torch.log(hypothesis) + (1 - Y)\n",
        "             * torch.log(1 - hypothesis)).mean()\n",
        "    cost.backward()\n",
        "    optimizer.step()\n",
        "\n",
        "    if step % 200 == 0:\n",
        "        print(step, cost.data.numpy())"
      ],
      "metadata": {
        "id": "BEXGk6ZMaLdG"
      },
      "execution_count": null,
      "outputs": []
    },
    {
      "cell_type": "code",
      "source": [
        "predicted = (model(X).data > 0.5).float()\n",
        "accuracy = (predicted == Y.data).float().mean()\n",
        "print(\"\\nHypothesis: \", hypothesis.data.numpy(), \"\\nCorrect (Y): \", predicted.numpy(), \"\\nAccuracy: \", accuracy)"
      ],
      "metadata": {
        "id": "DW_nn8mXaPpm"
      },
      "execution_count": null,
      "outputs": []
    }
  ]
}